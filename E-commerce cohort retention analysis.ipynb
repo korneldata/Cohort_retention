{
 "cells": [
  {
   "cell_type": "code",
   "execution_count": 1,
   "id": "e0a83223",
   "metadata": {},
   "outputs": [],
   "source": [
    "import pandas as pd\n",
    "import datetime as dt\n",
    "import matplotlib.pyplot as plt\n",
    "import seaborn as sns"
   ]
  },
  {
   "cell_type": "code",
   "execution_count": 2,
   "id": "cf0722d9",
   "metadata": {},
   "outputs": [
    {
     "data": {
      "text/html": [
       "<div>\n",
       "<style scoped>\n",
       "    .dataframe tbody tr th:only-of-type {\n",
       "        vertical-align: middle;\n",
       "    }\n",
       "\n",
       "    .dataframe tbody tr th {\n",
       "        vertical-align: top;\n",
       "    }\n",
       "\n",
       "    .dataframe thead th {\n",
       "        text-align: right;\n",
       "    }\n",
       "</style>\n",
       "<table border=\"1\" class=\"dataframe\">\n",
       "  <thead>\n",
       "    <tr style=\"text-align: right;\">\n",
       "      <th></th>\n",
       "      <th>CustomerID</th>\n",
       "      <th>Transaction_ID</th>\n",
       "      <th>Transaction_Date</th>\n",
       "      <th>Product_SKU</th>\n",
       "      <th>Product_Description</th>\n",
       "      <th>Product_Category</th>\n",
       "      <th>Quantity</th>\n",
       "      <th>Avg_Price</th>\n",
       "      <th>Delivery_Charges</th>\n",
       "      <th>Coupon_Status</th>\n",
       "    </tr>\n",
       "  </thead>\n",
       "  <tbody>\n",
       "    <tr>\n",
       "      <th>0</th>\n",
       "      <td>17850</td>\n",
       "      <td>16679</td>\n",
       "      <td>1/1/2019</td>\n",
       "      <td>GGOENEBJ079499</td>\n",
       "      <td>Nest Learning Thermostat 3rd Gen-USA - Stainle...</td>\n",
       "      <td>Nest-USA</td>\n",
       "      <td>1</td>\n",
       "      <td>153.71</td>\n",
       "      <td>6.5</td>\n",
       "      <td>Used</td>\n",
       "    </tr>\n",
       "    <tr>\n",
       "      <th>1</th>\n",
       "      <td>17850</td>\n",
       "      <td>16680</td>\n",
       "      <td>1/1/2019</td>\n",
       "      <td>GGOENEBJ079499</td>\n",
       "      <td>Nest Learning Thermostat 3rd Gen-USA - Stainle...</td>\n",
       "      <td>Nest-USA</td>\n",
       "      <td>1</td>\n",
       "      <td>153.71</td>\n",
       "      <td>6.5</td>\n",
       "      <td>Used</td>\n",
       "    </tr>\n",
       "    <tr>\n",
       "      <th>2</th>\n",
       "      <td>17850</td>\n",
       "      <td>16681</td>\n",
       "      <td>1/1/2019</td>\n",
       "      <td>GGOEGFKQ020399</td>\n",
       "      <td>Google Laptop and Cell Phone Stickers</td>\n",
       "      <td>Office</td>\n",
       "      <td>1</td>\n",
       "      <td>2.05</td>\n",
       "      <td>6.5</td>\n",
       "      <td>Used</td>\n",
       "    </tr>\n",
       "    <tr>\n",
       "      <th>3</th>\n",
       "      <td>17850</td>\n",
       "      <td>16682</td>\n",
       "      <td>1/1/2019</td>\n",
       "      <td>GGOEGAAB010516</td>\n",
       "      <td>Google Men's 100% Cotton Short Sleeve Hero Tee...</td>\n",
       "      <td>Apparel</td>\n",
       "      <td>5</td>\n",
       "      <td>17.53</td>\n",
       "      <td>6.5</td>\n",
       "      <td>Not Used</td>\n",
       "    </tr>\n",
       "    <tr>\n",
       "      <th>4</th>\n",
       "      <td>17850</td>\n",
       "      <td>16682</td>\n",
       "      <td>1/1/2019</td>\n",
       "      <td>GGOEGBJL013999</td>\n",
       "      <td>Google Canvas Tote Natural/Navy</td>\n",
       "      <td>Bags</td>\n",
       "      <td>1</td>\n",
       "      <td>16.50</td>\n",
       "      <td>6.5</td>\n",
       "      <td>Used</td>\n",
       "    </tr>\n",
       "  </tbody>\n",
       "</table>\n",
       "</div>"
      ],
      "text/plain": [
       "   CustomerID  Transaction_ID Transaction_Date     Product_SKU  \\\n",
       "0       17850           16679         1/1/2019  GGOENEBJ079499   \n",
       "1       17850           16680         1/1/2019  GGOENEBJ079499   \n",
       "2       17850           16681         1/1/2019  GGOEGFKQ020399   \n",
       "3       17850           16682         1/1/2019  GGOEGAAB010516   \n",
       "4       17850           16682         1/1/2019  GGOEGBJL013999   \n",
       "\n",
       "                                 Product_Description Product_Category  \\\n",
       "0  Nest Learning Thermostat 3rd Gen-USA - Stainle...         Nest-USA   \n",
       "1  Nest Learning Thermostat 3rd Gen-USA - Stainle...         Nest-USA   \n",
       "2              Google Laptop and Cell Phone Stickers           Office   \n",
       "3  Google Men's 100% Cotton Short Sleeve Hero Tee...          Apparel   \n",
       "4                    Google Canvas Tote Natural/Navy             Bags   \n",
       "\n",
       "   Quantity  Avg_Price  Delivery_Charges Coupon_Status  \n",
       "0         1     153.71               6.5          Used  \n",
       "1         1     153.71               6.5          Used  \n",
       "2         1       2.05               6.5          Used  \n",
       "3         5      17.53               6.5      Not Used  \n",
       "4         1      16.50               6.5          Used  "
      ]
     },
     "execution_count": 2,
     "metadata": {},
     "output_type": "execute_result"
    }
   ],
   "source": [
    "sales = pd.read_csv(r'C:\\Users\\Nowy_użytkownik\\Desktop\\Online_Sales.csv')\n",
    "sales.head()"
   ]
  },
  {
   "cell_type": "code",
   "execution_count": 3,
   "id": "320a8c80",
   "metadata": {},
   "outputs": [],
   "source": [
    "#removing unnecessary columns\n",
    "sales = sales[['CustomerID', 'Transaction_ID', 'Transaction_Date']]\n",
    "sales"
   ]
  },
  {
   "cell_type": "code",
   "execution_count": 5,
   "id": "8479731a",
   "metadata": {},
   "outputs": [
    {
     "data": {
      "text/plain": [
       "CustomerID          0\n",
       "Transaction_ID      0\n",
       "Transaction_Date    0\n",
       "dtype: int64"
      ]
     },
     "execution_count": 5,
     "metadata": {},
     "output_type": "execute_result"
    }
   ],
   "source": [
    "#checking null values\n",
    "sales.isnull().sum()"
   ]
  },
  {
   "cell_type": "code",
   "execution_count": 6,
   "id": "2903e4af",
   "metadata": {},
   "outputs": [
    {
     "data": {
      "text/plain": [
       "CustomerID           int64\n",
       "Transaction_ID       int64\n",
       "Transaction_Date    object\n",
       "dtype: object"
      ]
     },
     "execution_count": 6,
     "metadata": {},
     "output_type": "execute_result"
    }
   ],
   "source": [
    "#checking data types\n",
    "sales.dtypes"
   ]
  },
  {
   "cell_type": "code",
   "execution_count": 7,
   "id": "ad9880c8",
   "metadata": {},
   "outputs": [],
   "source": [
    "#function which extracts year and month from a column and add first day    \n",
    "def month_year(x):\n",
    "    return dt.datetime(x.year, x.month, 1)    "
   ]
  },
  {
   "cell_type": "code",
   "execution_count": 8,
   "id": "b2a08a18",
   "metadata": {},
   "outputs": [],
   "source": [
    "#adding two columns: month and year of current transaction('Transaction_Month') and\n",
    "#month and year of first purchase by customer('Cohort_Month')\n",
    "sales['Transaction_Month'] = pd.to_datetime(sales['Transaction_Date']).apply(month_year)\n",
    "sales['Cohort_Month'] = sales.groupby('CustomerID')['Transaction_Month'].transform('min')"
   ]
  },
  {
   "cell_type": "code",
   "execution_count": 14,
   "id": "4b92b00c",
   "metadata": {},
   "outputs": [
    {
     "data": {
      "text/plain": [
       "CustomerID                    int64\n",
       "Transaction_ID                int64\n",
       "Transaction_Date             object\n",
       "Transaction_Month    datetime64[ns]\n",
       "Cohort_Month         datetime64[ns]\n",
       "dtype: object"
      ]
     },
     "execution_count": 14,
     "metadata": {},
     "output_type": "execute_result"
    }
   ],
   "source": [
    "sales.dtypes"
   ]
  },
  {
   "cell_type": "code",
   "execution_count": 16,
   "id": "9582f8f8",
   "metadata": {},
   "outputs": [
    {
     "data": {
      "text/html": [
       "<div>\n",
       "<style scoped>\n",
       "    .dataframe tbody tr th:only-of-type {\n",
       "        vertical-align: middle;\n",
       "    }\n",
       "\n",
       "    .dataframe tbody tr th {\n",
       "        vertical-align: top;\n",
       "    }\n",
       "\n",
       "    .dataframe thead th {\n",
       "        text-align: right;\n",
       "    }\n",
       "</style>\n",
       "<table border=\"1\" class=\"dataframe\">\n",
       "  <thead>\n",
       "    <tr style=\"text-align: right;\">\n",
       "      <th></th>\n",
       "      <th>CustomerID</th>\n",
       "      <th>Transaction_ID</th>\n",
       "      <th>Transaction_Date</th>\n",
       "      <th>Transaction_Month</th>\n",
       "      <th>Cohort_Month</th>\n",
       "    </tr>\n",
       "  </thead>\n",
       "  <tbody>\n",
       "    <tr>\n",
       "      <th>0</th>\n",
       "      <td>17850</td>\n",
       "      <td>16679</td>\n",
       "      <td>1/1/2019</td>\n",
       "      <td>2019-01-01</td>\n",
       "      <td>2019-01-01</td>\n",
       "    </tr>\n",
       "    <tr>\n",
       "      <th>1</th>\n",
       "      <td>17850</td>\n",
       "      <td>16680</td>\n",
       "      <td>1/1/2019</td>\n",
       "      <td>2019-01-01</td>\n",
       "      <td>2019-01-01</td>\n",
       "    </tr>\n",
       "    <tr>\n",
       "      <th>2</th>\n",
       "      <td>17850</td>\n",
       "      <td>16681</td>\n",
       "      <td>1/1/2019</td>\n",
       "      <td>2019-01-01</td>\n",
       "      <td>2019-01-01</td>\n",
       "    </tr>\n",
       "    <tr>\n",
       "      <th>3</th>\n",
       "      <td>17850</td>\n",
       "      <td>16682</td>\n",
       "      <td>1/1/2019</td>\n",
       "      <td>2019-01-01</td>\n",
       "      <td>2019-01-01</td>\n",
       "    </tr>\n",
       "    <tr>\n",
       "      <th>4</th>\n",
       "      <td>17850</td>\n",
       "      <td>16682</td>\n",
       "      <td>1/1/2019</td>\n",
       "      <td>2019-01-01</td>\n",
       "      <td>2019-01-01</td>\n",
       "    </tr>\n",
       "  </tbody>\n",
       "</table>\n",
       "</div>"
      ],
      "text/plain": [
       "   CustomerID  Transaction_ID Transaction_Date Transaction_Month Cohort_Month\n",
       "0       17850           16679         1/1/2019        2019-01-01   2019-01-01\n",
       "1       17850           16680         1/1/2019        2019-01-01   2019-01-01\n",
       "2       17850           16681         1/1/2019        2019-01-01   2019-01-01\n",
       "3       17850           16682         1/1/2019        2019-01-01   2019-01-01\n",
       "4       17850           16682         1/1/2019        2019-01-01   2019-01-01"
      ]
     },
     "execution_count": 16,
     "metadata": {},
     "output_type": "execute_result"
    }
   ],
   "source": [
    "sales.head()"
   ]
  },
  {
   "cell_type": "code",
   "execution_count": 23,
   "id": "437d3057",
   "metadata": {},
   "outputs": [],
   "source": [
    "#adding cohort index by calculating difference (in months) between month of first purchase ('Cohort_Month') \n",
    "#and month of current purchase ('Transaction_Month')     \n",
    "sales['Cohort_Index'] = sales['Transaction_Month'].dt.month - sales['Cohort_Month'].dt.month + 1"
   ]
  },
  {
   "cell_type": "code",
   "execution_count": 47,
   "id": "4d1ad05b",
   "metadata": {},
   "outputs": [
    {
     "data": {
      "text/html": [
       "<div>\n",
       "<style scoped>\n",
       "    .dataframe tbody tr th:only-of-type {\n",
       "        vertical-align: middle;\n",
       "    }\n",
       "\n",
       "    .dataframe tbody tr th {\n",
       "        vertical-align: top;\n",
       "    }\n",
       "\n",
       "    .dataframe thead th {\n",
       "        text-align: right;\n",
       "    }\n",
       "</style>\n",
       "<table border=\"1\" class=\"dataframe\">\n",
       "  <thead>\n",
       "    <tr style=\"text-align: right;\">\n",
       "      <th></th>\n",
       "      <th>CustomerID</th>\n",
       "      <th>Transaction_ID</th>\n",
       "      <th>Transaction_Date</th>\n",
       "      <th>Transaction_Month</th>\n",
       "      <th>Cohort_Month</th>\n",
       "      <th>Cohort_Index</th>\n",
       "    </tr>\n",
       "  </thead>\n",
       "  <tbody>\n",
       "    <tr>\n",
       "      <th>0</th>\n",
       "      <td>17850</td>\n",
       "      <td>16679</td>\n",
       "      <td>1/1/2019</td>\n",
       "      <td>2019-01-01</td>\n",
       "      <td>2019-01-01</td>\n",
       "      <td>1</td>\n",
       "    </tr>\n",
       "    <tr>\n",
       "      <th>1</th>\n",
       "      <td>17850</td>\n",
       "      <td>16680</td>\n",
       "      <td>1/1/2019</td>\n",
       "      <td>2019-01-01</td>\n",
       "      <td>2019-01-01</td>\n",
       "      <td>1</td>\n",
       "    </tr>\n",
       "    <tr>\n",
       "      <th>2</th>\n",
       "      <td>17850</td>\n",
       "      <td>16681</td>\n",
       "      <td>1/1/2019</td>\n",
       "      <td>2019-01-01</td>\n",
       "      <td>2019-01-01</td>\n",
       "      <td>1</td>\n",
       "    </tr>\n",
       "    <tr>\n",
       "      <th>3</th>\n",
       "      <td>17850</td>\n",
       "      <td>16682</td>\n",
       "      <td>1/1/2019</td>\n",
       "      <td>2019-01-01</td>\n",
       "      <td>2019-01-01</td>\n",
       "      <td>1</td>\n",
       "    </tr>\n",
       "    <tr>\n",
       "      <th>4</th>\n",
       "      <td>17850</td>\n",
       "      <td>16682</td>\n",
       "      <td>1/1/2019</td>\n",
       "      <td>2019-01-01</td>\n",
       "      <td>2019-01-01</td>\n",
       "      <td>1</td>\n",
       "    </tr>\n",
       "  </tbody>\n",
       "</table>\n",
       "</div>"
      ],
      "text/plain": [
       "   CustomerID  Transaction_ID Transaction_Date Transaction_Month Cohort_Month  \\\n",
       "0       17850           16679         1/1/2019        2019-01-01   2019-01-01   \n",
       "1       17850           16680         1/1/2019        2019-01-01   2019-01-01   \n",
       "2       17850           16681         1/1/2019        2019-01-01   2019-01-01   \n",
       "3       17850           16682         1/1/2019        2019-01-01   2019-01-01   \n",
       "4       17850           16682         1/1/2019        2019-01-01   2019-01-01   \n",
       "\n",
       "   Cohort_Index  \n",
       "0             1  \n",
       "1             1  \n",
       "2             1  \n",
       "3             1  \n",
       "4             1  "
      ]
     },
     "execution_count": 47,
     "metadata": {},
     "output_type": "execute_result"
    }
   ],
   "source": [
    "sales.head()"
   ]
  },
  {
   "cell_type": "code",
   "execution_count": 50,
   "id": "10ef9f35",
   "metadata": {},
   "outputs": [],
   "source": [
    "sales['Cohort_Month'] = sales['Cohort_Month'].dt.date"
   ]
  },
  {
   "cell_type": "code",
   "execution_count": 51,
   "id": "82a29d84",
   "metadata": {},
   "outputs": [],
   "source": [
    "#calculating number of unique customers for each cohort index within cohort month \n",
    "cohort = pd.DataFrame(sales.groupby(['Cohort_Month', 'Cohort_Index'])['CustomerID'].nunique())\n",
    "cohort = cohort.rename(columns={'CustomerID':'Customers'})"
   ]
  },
  {
   "cell_type": "code",
   "execution_count": 53,
   "id": "61509b67",
   "metadata": {},
   "outputs": [],
   "source": [
    "#calculating cohort retention rate\n",
    "cohort['Retention_Rate'] = cohort['Customers'] / cohort.groupby('Cohort_Month')['Customers'].apply('max')"
   ]
  },
  {
   "cell_type": "code",
   "execution_count": 55,
   "id": "611993cc",
   "metadata": {},
   "outputs": [],
   "source": [
    "#pivoting the dataframe\n",
    "cohort_pivoted = cohort.pivot_table(index='Cohort_Month', columns='Cohort_Index', values='Retention_Rate')"
   ]
  },
  {
   "cell_type": "code",
   "execution_count": 42,
   "id": "9d2d0384",
   "metadata": {},
   "outputs": [],
   "source": [
    "import seaborn as sns\n",
    "import matplotlib.pyplot as plt"
   ]
  },
  {
   "cell_type": "code",
   "execution_count": 61,
   "id": "b8836e7f",
   "metadata": {},
   "outputs": [
    {
     "data": {
      "image/png": "[encoded data removed]",
      "text/plain": [
       "<Figure size 640x480 with 2 Axes>"
      ]
     },
     "metadata": {},
     "output_type": "display_data"
    },
    {
     "data": {
      "text/plain": [
       "<Figure size 1500x1000 with 0 Axes>"
      ]
     },
     "metadata": {},
     "output_type": "display_data"
    }
   ],
   "source": [
    "#visualising cohort retention using heatmap\n",
    "sns.heatmap(data=cohort_pivoted,\n",
    "           cmap='BuGn',\n",
    "           annot=True,\n",
    "           fmt='.0%')\n",
    "\n",
    "plt.title('Cohort Retention Rate - monthly cohorts')\n",
    "plt.ylabel('Cohort month')\n",
    "plt.xlabel('Cohort index')\n",
    "plt.yticks(rotation='horizontal')\n",
    "plt.figure(figsize=(15, 10))\n",
    "plt.show()"
   ]
  },
  {
   "cell_type": "code",
   "execution_count": null,
   "id": "39079e63",
   "metadata": {},
   "outputs": [],
   "source": []
  }
 ],
 "metadata": {
  "kernelspec": {
   "display_name": "Python 3 (ipykernel)",
   "language": "python",
   "name": "python3"
  },
  "language_info": {
   "codemirror_mode": {
    "name": "ipython",
    "version": 3
   },
   "file_extension": ".py",
   "mimetype": "text/x-python",
   "name": "python",
   "nbconvert_exporter": "python",
   "pygments_lexer": "ipython3",
   "version": "3.10.9"
  }
 },
 "nbformat": 4,
 "nbformat_minor": 5
}
